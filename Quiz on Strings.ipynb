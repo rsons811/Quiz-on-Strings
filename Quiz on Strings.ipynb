{
 "cells": [
  {
   "cell_type": "markdown",
   "id": "7177daf9-f06d-4cba-abb8-e7de64de4c4f",
   "metadata": {},
   "source": [
    "# Quiz on Strings"
   ]
  },
  {
   "cell_type": "markdown",
   "id": "e32ddf8b-9593-4d74-8c04-a16fd3dbc276",
   "metadata": {},
   "source": [
    "## What is the value of the variable a after the following code is executed?"
   ]
  },
  {
   "cell_type": "code",
   "execution_count": 1,
   "id": "3c46545d-34bd-4ac8-9045-e734373f4c2e",
   "metadata": {},
   "outputs": [
    {
     "name": "stdout",
     "output_type": "stream",
     "text": [
      "1\n"
     ]
    }
   ],
   "source": [
    "a=\"1\"\n",
    "print(a)"
   ]
  },
  {
   "cell_type": "markdown",
   "id": "b709d142-9424-4f81-b061-c9548cb7ec24",
   "metadata": {},
   "source": [
    "## What is the value of the variable b after the following code is executed?"
   ]
  },
  {
   "cell_type": "code",
   "execution_count": 2,
   "id": "812db12a-af4f-453d-802e-dedf489a0d89",
   "metadata": {},
   "outputs": [
    {
     "name": "stdout",
     "output_type": "stream",
     "text": [
      "2\n"
     ]
    }
   ],
   "source": [
    "b=\"2\"\n",
    "print(b)"
   ]
  },
  {
   "cell_type": "markdown",
   "id": "6e31bdde-6ef5-4902-8856-c09900a66ba8",
   "metadata": {},
   "source": [
    "## What is the value of the variable c after the following code is executed?"
   ]
  },
  {
   "cell_type": "code",
   "execution_count": 3,
   "id": "a37d714c-fda6-49c0-9419-82e33311227c",
   "metadata": {},
   "outputs": [
    {
     "name": "stdout",
     "output_type": "stream",
     "text": [
      "12\n"
     ]
    }
   ],
   "source": [
    "c= a+b\n",
    "print(c)"
   ]
  },
  {
   "cell_type": "markdown",
   "id": "7309a903-27e3-456a-875c-ded6bb1a994c",
   "metadata": {},
   "source": [
    "## Consider the variable d use slicing to print out the first three elements:"
   ]
  },
  {
   "cell_type": "code",
   "execution_count": 4,
   "id": "7253ad79-977f-4912-869d-73e48dee43ed",
   "metadata": {},
   "outputs": [
    {
     "data": {
      "text/plain": [
       "'ABC'"
      ]
     },
     "execution_count": 4,
     "metadata": {},
     "output_type": "execute_result"
    }
   ],
   "source": [
    "d = \"ABCDEFG\"\n",
    "d[0:3]"
   ]
  },
  {
   "cell_type": "markdown",
   "id": "bebdf907-e269-40ce-a9d2-5bf3b20e7da3",
   "metadata": {},
   "source": [
    "## Use a stride value of 2 to print out every second character of the string e:"
   ]
  },
  {
   "cell_type": "code",
   "execution_count": 5,
   "id": "b865855a-f1d0-4678-a019-9c6ad121fad8",
   "metadata": {},
   "outputs": [
    {
     "data": {
      "text/plain": [
       "'correct'"
      ]
     },
     "execution_count": 5,
     "metadata": {},
     "output_type": "execute_result"
    }
   ],
   "source": [
    "e = 'clocrkr1e1c1t'\n",
    "e[::2]"
   ]
  },
  {
   "cell_type": "markdown",
   "id": "81554ed1-c045-44bd-8774-2d670691bef0",
   "metadata": {},
   "source": [
    "## Convert the variable f to uppercase:"
   ]
  },
  {
   "cell_type": "code",
   "execution_count": 7,
   "id": "ff7e3bbc-7029-42e1-83e9-ecf9fe152b5b",
   "metadata": {},
   "outputs": [
    {
     "name": "stdout",
     "output_type": "stream",
     "text": [
      "before upper: You are wrong\n",
      "after upper: YOU ARE WRONG\n"
     ]
    }
   ],
   "source": [
    "f = \"You are wrong\"\n",
    "print(\"before upper:\",f)\n",
    "a=f.upper()\n",
    "print(\"after upper:\",a)"
   ]
  },
  {
   "cell_type": "markdown",
   "id": "359ec6ce-9c23-437f-a624-693fa1e74b13",
   "metadata": {},
   "source": [
    "## Convert the variable f2 to lowercase:"
   ]
  },
  {
   "cell_type": "code",
   "execution_count": 8,
   "id": "5845ae1f-6c9f-4a70-901a-ab71dc5825ea",
   "metadata": {},
   "outputs": [
    {
     "name": "stdout",
     "output_type": "stream",
     "text": [
      "before lower: YOU ARE RIGHT\n",
      "after lower: you are right\n"
     ]
    }
   ],
   "source": [
    "f2=\"YOU ARE RIGHT\"\n",
    "print(\"before lower:\",f2)\n",
    "b=f2.lower()\n",
    "print(\"after lower:\",b)"
   ]
  },
  {
   "cell_type": "markdown",
   "id": "4f5c2c2c-e407-4be3-adb0-53013dccc5c0",
   "metadata": {},
   "source": [
    "## Consider the variable g, and find the first index of the sub-string snow:"
   ]
  },
  {
   "cell_type": "code",
   "execution_count": 10,
   "id": "d4029bee-b7dc-40a4-b02c-08e51ec87e3a",
   "metadata": {},
   "outputs": [],
   "source": [
    "g = \"Mary had a little lamb Little lamb, little lamb Mary had a little lamb \\\n",
    "Its fleece was white as snow And everywhere that Mary went Mary went, Mary went \\\n",
    "Everywhere that Mary went The lamb was sure to go\""
   ]
  },
  {
   "cell_type": "code",
   "execution_count": 12,
   "id": "b5919788-c595-4ec6-9503-124238ea9b91",
   "metadata": {},
   "outputs": [
    {
     "name": "stdout",
     "output_type": "stream",
     "text": [
      "95\n"
     ]
    }
   ],
   "source": [
    "print(g.find(\"snow\"))"
   ]
  },
  {
   "cell_type": "markdown",
   "id": "c155102b-4fec-40b7-babf-78329481415f",
   "metadata": {},
   "source": [
    "### In the variable g, replace the sub-string Mary with Bob:"
   ]
  },
  {
   "cell_type": "code",
   "execution_count": 16,
   "id": "1481ec1f-63d9-4ee1-a6ac-0cf45c4ba2a1",
   "metadata": {},
   "outputs": [
    {
     "data": {
      "text/plain": [
       "'bob had a little lamb Little lamb, little lamb bob had a little lamb Its fleece was white as snow And everywhere that bob went bob went, bob went Everywhere that bob went The lamb was sure to go'"
      ]
     },
     "execution_count": 16,
     "metadata": {},
     "output_type": "execute_result"
    }
   ],
   "source": [
    "g.replace(\"Mary\",\"bob\")"
   ]
  },
  {
   "cell_type": "markdown",
   "id": "873b98d7-113a-4d45-9fe6-751f1b73a7d8",
   "metadata": {},
   "source": [
    "### In the variable g, split the substring to list:"
   ]
  },
  {
   "cell_type": "code",
   "execution_count": 20,
   "id": "5d163bde-187a-4af7-94a4-e5a94c5b1cbc",
   "metadata": {},
   "outputs": [
    {
     "name": "stdout",
     "output_type": "stream",
     "text": [
      "['Mary', 'had', 'a', 'little', 'lamb', 'Little', 'lamb,', 'little', 'lamb', 'Mary', 'had', 'a', 'little', 'lamb', 'Its', 'fleece', 'was', 'white', 'as', 'snow', 'And', 'everywhere', 'that', 'Mary', 'went', 'Mary', 'went,', 'Mary', 'went', 'Everywhere', 'that', 'Mary', 'went', 'The', 'lamb', 'was', 'sure', 'to', 'go']\n"
     ]
    }
   ],
   "source": [
    "print(g.split())"
   ]
  },
  {
   "cell_type": "markdown",
   "id": "d80c5b00-2dd1-471a-b0a1-4623745bda18",
   "metadata": {},
   "source": [
    "## In the string str1, replace the sub-string fox with bear using sub() function:"
   ]
  },
  {
   "cell_type": "code",
   "execution_count": 35,
   "id": "6791cdd3-94e4-471e-9bb4-8c8d26f9cfcb",
   "metadata": {},
   "outputs": [
    {
     "data": {
      "text/plain": [
       "'The quick brown bear jumps over the lazy dog.'"
      ]
     },
     "execution_count": 35,
     "metadata": {},
     "output_type": "execute_result"
    }
   ],
   "source": [
    "str1= \"The quick brown fox jumps over the lazy dog.\"\n",
    "str1.replace(\"fox\",\"bear\")"
   ]
  },
  {
   "cell_type": "markdown",
   "id": "18d560e0-9a5b-4819-8bca-0de74695d6c3",
   "metadata": {},
   "source": [
    "## In the string str2 find all the occurrences of woo using findall() function:"
   ]
  },
  {
   "cell_type": "code",
   "execution_count": 36,
   "id": "6bd95c58-df67-4284-bfd3-83092ab240e7",
   "metadata": {},
   "outputs": [
    {
     "data": {
      "text/plain": [
       "9"
      ]
     },
     "execution_count": 36,
     "metadata": {},
     "output_type": "execute_result"
    }
   ],
   "source": [
    "str2= \"How much wood would a woodchuck chuck, if a woodchuck could chuck wood?\"\n",
    "str2.find(\"woo\")"
   ]
  },
  {
   "cell_type": "code",
   "execution_count": null,
   "id": "1f7cd9b1-dbca-4d53-92b2-99904dc166d3",
   "metadata": {},
   "outputs": [],
   "source": []
  }
 ],
 "metadata": {
  "kernelspec": {
   "display_name": "Python 3 (ipykernel)",
   "language": "python",
   "name": "python3"
  },
  "language_info": {
   "codemirror_mode": {
    "name": "ipython",
    "version": 3
   },
   "file_extension": ".py",
   "mimetype": "text/x-python",
   "name": "python",
   "nbconvert_exporter": "python",
   "pygments_lexer": "ipython3",
   "version": "3.12.4"
  }
 },
 "nbformat": 4,
 "nbformat_minor": 5
}
